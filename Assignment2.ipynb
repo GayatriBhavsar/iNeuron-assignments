{
 "cells": [
  {
   "cell_type": "markdown",
   "id": "814988d8",
   "metadata": {},
   "source": [
    "1.What are the two values of the Boolean data type? How do you write them?\n",
    "Ans:\n",
    "    Boolean data type has two values that are true and false. In python we write them as \n",
    "    True and False because python is casesensitive language."
   ]
  },
  {
   "cell_type": "markdown",
   "id": "f29a7c4e",
   "metadata": {},
   "source": [
    "2. What are the three different types of Boolean operators?\n",
    "Ans:\n",
    "     Boolean operators in python are used to campare the values and evaluate the expression and gives the result in terms of True and False.\n",
    "     Boolean opreator in python are,\n",
    "        1. AND\n",
    "        2. OR\n",
    "        3. NOT"
   ]
  },
  {
   "cell_type": "markdown",
   "id": "3e65d19a",
   "metadata": {},
   "source": [
    "3. Make a list of each Boolean operator&#39;s truth tables (i.e. every possible combination of Boolean\n",
    "values for the operator and what it evaluate ).\n",
    "Ans: \n",
    "    AND operators truth table\n",
    "    \n",
    "    A  B   A AND B\n",
    "    0  0     0\n",
    "    0  1     0\n",
    "    1  0     0\n",
    "    1  1     1\n",
    "    \n",
    "    OR oprators truth table\n",
    "    \n",
    "    A   B    A OR B\n",
    "    0   0      0\n",
    "    0   1      1\n",
    "    1   0      1\n",
    "    1   1      1\n",
    "    \n",
    "    NOT oprators truth table\n",
    "    \n",
    "    A   NOT A\n",
    "    0     1\n",
    "    1     0"
   ]
  },
  {
   "cell_type": "markdown",
   "id": "0069e3ae",
   "metadata": {},
   "source": [
    "4. What are the values of the following expressions?\n",
    "(5 > 4) and (3 == 5)\n",
    "not (5 > 4)\n",
    "(5 > 4) or (3 == 5)\n",
    "not ((5 > 4) or (3 == 5))\n",
    "(True and True) and (True == False)\n",
    "(not False) or (not True)\n",
    "\n",
    "Ans:\n",
    "(5 > 4) and (3 == 5): False\n",
    " \n",
    " not (5 > 4)       : False\n",
    "\n",
    "(5 > 4) or (3 == 5) : True\n",
    "\n",
    "not ((5 > 4) or (3 == 5)) : False\n",
    "\n",
    "(True and True) and (True == False) : False\n",
    "\n",
    "(not False) or (not True) : True"
   ]
  },
  {
   "cell_type": "markdown",
   "id": "05798ce4",
   "metadata": {},
   "source": [
    "5. What are the six comparison operators?\n",
    "Ans:\n",
    "    The six comparison operators are as:\n",
    "        less than  <\n",
    "        greater than >\n",
    "        less than  or equal   <=\n",
    "        greater than or equal >=\n",
    "        equal to  ==\n",
    "        not equal to !=\n",
    "        "
   ]
  },
  {
   "cell_type": "markdown",
   "id": "1a09c039",
   "metadata": {},
   "source": [
    "6. How do you tell the difference between the equal to and assignment operators?Describe a\n",
    "condition and when you would use one.\n",
    "\n",
    "Ans : Assignment operator is denoted as =\n",
    "    Equal operator is denoted as ==\n",
    "    Assignment operator is used to assign the value of variable or expression,\n",
    "    eg :\n",
    "           a is variable and if we want to some somevalue to it then we can do it by this way\n",
    "                   a = 10\n",
    "           \n",
    "    while == is an Equal to Operator and it is a relation operator used for comparison (to compare value of both left and right side operands). which yields some result that either true or false\n",
    "    \n",
    "    Eg : \n",
    "          (3 == 5) in this we have used the equal to operator for comparion of 3 and 5 which yields result which is false \n",
    "    \n",
    "    "
   ]
  },
  {
   "cell_type": "markdown",
   "id": "27ae2347",
   "metadata": {},
   "source": [
    "7. Identify the three blocks in this code:\n",
    "spam = 0\n",
    "if spam ==10:\n",
    "print('eggs')\n",
    "if spam >5:\n",
    "print('bacon')\n",
    "else:\n",
    "print('ham')\n",
    "print('spam')\n",
    "print('spam')\n",
    "\n",
    "Ans:\n",
    "\n",
    "spam = 0\n",
    "if spam ==10:        ------first block\n",
    "\n",
    "print('eggs')\n",
    "if spam >5:          -------second block\n",
    "print('bacon')\n",
    "\n",
    "else:                -------third block\n",
    "print('ham')\n",
    "print('spam')\n",
    "print('spam')"
   ]
  },
  {
   "cell_type": "markdown",
   "id": "393706c0",
   "metadata": {},
   "source": [
    "8. Write code that prints Hello if 1 is stored in spam, prints Howdy if 2 is stored in spam, and prints\n",
    "Greetings! if anything else is stored in spam."
   ]
  },
  {
   "cell_type": "code",
   "execution_count": 11,
   "id": "de132ad2",
   "metadata": {},
   "outputs": [
    {
     "name": "stdout",
     "output_type": "stream",
     "text": [
      "Greetings!\n"
     ]
    }
   ],
   "source": [
    "spam = 4\n",
    "if spam == 1:\n",
    "    print('Hello')\n",
    "elif spam == 2:\n",
    "    print('Howdy')\n",
    "else:\n",
    "    print('Greetings!')\n",
    "    "
   ]
  },
  {
   "cell_type": "markdown",
   "id": "f280da61",
   "metadata": {},
   "source": [
    "9.If your programme is stuck in an endless loop, what keys you’ll press?\n",
    "\n",
    "ans:\n",
    " If the programme is stuck in an endless loop then CTRL + C is the key to stop that infinite loop"
   ]
  },
  {
   "cell_type": "markdown",
   "id": "a689958c",
   "metadata": {},
   "source": [
    "10. How can you tell the difference between break and continue?\n",
    "\n",
    "ans:\n",
    "    When the break keyword comes it teminates the excution of the ongoing loop and passes the control over the next loop or to main body, while when continue keyword is encountered it skips the current iteration and executes the very next iteration in the loop. "
   ]
  },
  {
   "cell_type": "markdown",
   "id": "39c3c31b",
   "metadata": {},
   "source": [
    "11. In a for loop, what is the difference between range(10), range(0, 10), and range(0, 10, 1)?\n",
    " \n",
    "Ans:  \n",
    "     range(start, stop, step) it Returns an object that produces a sequence of integers from start (inclusive) to stop (exclusive) by step.\n",
    "       In for loop range(10) values ranges from 0 to 9 excluide the upperbound 10\n",
    "       range(0,10) it is same as range(10) values ranges from 0 to 9\n",
    "       range(0,10,1) here step value is 1 so sequence is same form 0 to 9 \n",
    "       "
   ]
  },
  {
   "cell_type": "markdown",
   "id": "d44ab901",
   "metadata": {},
   "source": [
    "12. Write a short program that prints the numbers 1 to 10 using a for loop. Then write an equivalent\n",
    "program that prints the numbers 1 to 10 using a while loop.\n"
   ]
  },
  {
   "cell_type": "code",
   "execution_count": 13,
   "id": "83d43be2",
   "metadata": {},
   "outputs": [
    {
     "name": "stdout",
     "output_type": "stream",
     "text": [
      "1\n",
      "2\n",
      "3\n",
      "4\n",
      "5\n",
      "6\n",
      "7\n",
      "8\n",
      "9\n",
      "10\n"
     ]
    }
   ],
   "source": [
    "for i in range(11):\n",
    "    if i == 11:\n",
    "        break\n",
    "    elif i > 0:\n",
    "        print(i)\n",
    "        \n",
    "    "
   ]
  },
  {
   "cell_type": "code",
   "execution_count": 5,
   "id": "5064bb5a",
   "metadata": {},
   "outputs": [
    {
     "name": "stdout",
     "output_type": "stream",
     "text": [
      "1\n",
      "2\n",
      "3\n",
      "4\n",
      "5\n",
      "6\n",
      "7\n",
      "8\n",
      "9\n",
      "10\n"
     ]
    }
   ],
   "source": [
    "i = 1\n",
    "while i < 11:\n",
    "    print(i)\n",
    "    i+=1"
   ]
  },
  {
   "cell_type": "markdown",
   "id": "3118f318",
   "metadata": {},
   "source": [
    "13. If you had a function named bacon() inside a module named spam, how would you call it after\n",
    "importing spam?\n",
    "\n",
    "ans:\n",
    "    import spam\n",
    "    \n",
    "    spam.bacon()"
   ]
  },
  {
   "cell_type": "code",
   "execution_count": null,
   "id": "1b3bc0dc",
   "metadata": {},
   "outputs": [],
   "source": []
  }
 ],
 "metadata": {
  "kernelspec": {
   "display_name": "Python 3 (ipykernel)",
   "language": "python",
   "name": "python3"
  },
  "language_info": {
   "codemirror_mode": {
    "name": "ipython",
    "version": 3
   },
   "file_extension": ".py",
   "mimetype": "text/x-python",
   "name": "python",
   "nbconvert_exporter": "python",
   "pygments_lexer": "ipython3",
   "version": "3.9.13"
  }
 },
 "nbformat": 4,
 "nbformat_minor": 5
}
