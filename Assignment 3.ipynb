{
 "cells": [
  {
   "cell_type": "markdown",
   "id": "8c4c0214",
   "metadata": {},
   "source": [
    "Question 1"
   ]
  },
  {
   "cell_type": "markdown",
   "id": "70a87771",
   "metadata": {},
   "source": [
    "Why are functions advantageous to have in your programs?\n",
    "\n",
    "Ans:\n",
    "    The advantage of functions in our programs is that it help to reduce the number of lines in code. Function makes code easy to read.It hepls to avoid complex coding, rewrinting of code. Function gives reusability of code.\n",
    "    "
   ]
  },
  {
   "cell_type": "markdown",
   "id": "d6feb2c0",
   "metadata": {},
   "source": [
    "-----------------------------------------------------------------------------"
   ]
  },
  {
   "cell_type": "markdown",
   "id": "487171a9",
   "metadata": {},
   "source": [
    "Question 2"
   ]
  },
  {
   "cell_type": "markdown",
   "id": "3eeb4553",
   "metadata": {},
   "source": [
    "When does the code in a function run: when it's specified or when it's called?\n",
    "    \n",
    "Ans:\n",
    "    The code in the function run when it gets called."
   ]
  },
  {
   "cell_type": "markdown",
   "id": "c5aebdc0",
   "metadata": {},
   "source": [
    "---------------------------------------------------------------------------------"
   ]
  },
  {
   "cell_type": "markdown",
   "id": "92e9682d",
   "metadata": {},
   "source": [
    "Question 3"
   ]
  },
  {
   "cell_type": "markdown",
   "id": "48c9fa7a",
   "metadata": {},
   "source": [
    "What statement creates a function?\n",
    "\n",
    "Ans:\n",
    "    A function is defined by using the def keyword. We can give name of function as per our choice after the name of function we have to give set of parenthese in which argument can be passed it may be empty sometimes and finally ending with a colon.\n",
    "    eg:"
   ]
  },
  {
   "cell_type": "markdown",
   "id": "3cb51092",
   "metadata": {},
   "source": [
    "--------------------------------------------------------------------------------------------------------"
   ]
  },
  {
   "cell_type": "markdown",
   "id": "f6446830",
   "metadata": {},
   "source": [
    "Question 4"
   ]
  },
  {
   "cell_type": "markdown",
   "id": "a3392ced",
   "metadata": {},
   "source": [
    "What is the difference between a function and a function call?\n",
    "\n",
    "Ans:\n",
    "    While creating a function, we give a definition of what the function has to do. To use a function, we will have to call that function to perform the defined task. When a program calls a function, the program control is transferred to the called function."
   ]
  },
  {
   "cell_type": "code",
   "execution_count": 16,
   "id": "83e9ebaf",
   "metadata": {},
   "outputs": [],
   "source": [
    "def hello():\n",
    "    print(\"hi! you are learning python and you are doing good\")"
   ]
  },
  {
   "cell_type": "code",
   "execution_count": 17,
   "id": "7e71c171",
   "metadata": {},
   "outputs": [
    {
     "name": "stdout",
     "output_type": "stream",
     "text": [
      "hi! you are learning python and you are doing good\n"
     ]
    }
   ],
   "source": [
    "hello()"
   ]
  },
  {
   "cell_type": "markdown",
   "id": "4be0af8e",
   "metadata": {},
   "source": [
    "-------------------------------------------------------------------------------------------------------"
   ]
  },
  {
   "cell_type": "markdown",
   "id": "572062c8",
   "metadata": {},
   "source": [
    "Question 5"
   ]
  },
  {
   "cell_type": "markdown",
   "id": "04b37366",
   "metadata": {},
   "source": [
    "How many global scopes are there in a Python program? How many local scopes?\n",
    "\n",
    "Ans:\n",
    "    There is one global scope, and a local scope is created whenever a function is called."
   ]
  },
  {
   "cell_type": "markdown",
   "id": "66eca60a",
   "metadata": {},
   "source": [
    "-------------------------------------------------------------------------------------------------------"
   ]
  },
  {
   "cell_type": "markdown",
   "id": "0b80c040",
   "metadata": {},
   "source": [
    "Question 6"
   ]
  },
  {
   "cell_type": "markdown",
   "id": "a375943c",
   "metadata": {},
   "source": [
    "What happens to variables in a local scope when the function call returns?\n",
    "\n",
    "Ans:For every function call a stack frame is created inside stack where memory for all variables will be allocated. When the function completes its execution corresponding stack frame will be destroyed including its local variables.\n",
    "\n",
    "\n",
    "    "
   ]
  },
  {
   "cell_type": "markdown",
   "id": "3859994a",
   "metadata": {},
   "source": [
    "-------------------------------------------------------------------------------------------------------"
   ]
  },
  {
   "cell_type": "markdown",
   "id": "af3587b2",
   "metadata": {},
   "source": [
    "Question 7"
   ]
  },
  {
   "cell_type": "markdown",
   "id": "82a2458f",
   "metadata": {},
   "source": [
    "What is the concept of a return value? Is it possible to have a return value in an expression?\n",
    "\n",
    "Ans:\n",
    "A return is a value that a function returns to the calling function when it completes its task.Like any value, a return value can be used as part of an expression."
   ]
  },
  {
   "cell_type": "markdown",
   "id": "d1b16cf9",
   "metadata": {},
   "source": [
    "----------------------------------------------------------------------------------------------------------------"
   ]
  },
  {
   "cell_type": "markdown",
   "id": "8facd54e",
   "metadata": {},
   "source": [
    "Question 8"
   ]
  },
  {
   "cell_type": "markdown",
   "id": "56e0415e",
   "metadata": {},
   "source": [
    "If a function does not have a return statement, what is the return value of a call to that function?\n",
    "\n",
    "Ans:If there is no return statement for a function, its return value is None in case of if or conditional statements it is \"false\"."
   ]
  },
  {
   "cell_type": "markdown",
   "id": "deeb38b0",
   "metadata": {},
   "source": [
    "------------------------------------------------------------------------------------------------------------"
   ]
  },
  {
   "cell_type": "markdown",
   "id": "b785b22c",
   "metadata": {},
   "source": [
    "Question 9"
   ]
  },
  {
   "cell_type": "markdown",
   "id": "eb87c1a3",
   "metadata": {},
   "source": [
    "How do you make a function variable refer to the global variable?\n",
    "\n",
    "Ans:The variable defined inside the function are local. To make them globle or refer to globle variable then we should use globle keyword while defining or creating them."
   ]
  },
  {
   "cell_type": "markdown",
   "id": "b7198573",
   "metadata": {},
   "source": [
    "----------------------------------------------------------------------------------------------------"
   ]
  },
  {
   "cell_type": "markdown",
   "id": "1728d9a7",
   "metadata": {},
   "source": [
    "Question 10"
   ]
  },
  {
   "cell_type": "markdown",
   "id": "9259bbee",
   "metadata": {},
   "source": [
    "What is the data type of None?\n",
    "\n",
    "Ans:\n",
    "     The None keyword is used to define a null value, or no value. None is not the same as 0, False, or an empty string. None is a data type of its own (NoneType) and only None can be None."
   ]
  },
  {
   "cell_type": "markdown",
   "id": "bb6e6168",
   "metadata": {},
   "source": [
    "-----------------------------------------------------------------------------------------------------------"
   ]
  },
  {
   "cell_type": "markdown",
   "id": "2e141279",
   "metadata": {},
   "source": [
    "Question 11"
   ]
  },
  {
   "cell_type": "markdown",
   "id": "9bd2ada3",
   "metadata": {},
   "source": [
    "What does the sentence import areallyourpetsnamederic do?\n",
    "\n",
    "Ans: \n",
    "    This import statement imports a module named areallyourpetsnamederic.\n",
    "    "
   ]
  },
  {
   "cell_type": "markdown",
   "id": "ac7c774d",
   "metadata": {},
   "source": [
    "------"
   ]
  },
  {
   "cell_type": "markdown",
   "id": "2d2a577e",
   "metadata": {},
   "source": [
    "Question 12"
   ]
  },
  {
   "cell_type": "markdown",
   "id": "59ed20dc",
   "metadata": {},
   "source": [
    "If you had a bacon() feature in a spam module, what would you call it after importing spam?\n",
    "\n",
    "Ans:\n",
    "    This function can be called with spam.bacon()."
   ]
  },
  {
   "cell_type": "markdown",
   "id": "40a35b1f",
   "metadata": {},
   "source": [
    "---"
   ]
  },
  {
   "cell_type": "markdown",
   "id": "1987ed7e",
   "metadata": {},
   "source": [
    "Question 13"
   ]
  },
  {
   "cell_type": "markdown",
   "id": "c26755c0",
   "metadata": {},
   "source": [
    "What can you do to save a programme from crashing if it encounters an error?\n",
    "\n",
    "Ans:\n",
    "    To save aprogramme from crashing, place line of code that might cause an error in try clause."
   ]
  },
  {
   "cell_type": "markdown",
   "id": "f0b188dc",
   "metadata": {},
   "source": [
    "----"
   ]
  },
  {
   "cell_type": "markdown",
   "id": "8785041b",
   "metadata": {},
   "source": [
    "Question 14\n"
   ]
  },
  {
   "cell_type": "markdown",
   "id": "55addb24",
   "metadata": {},
   "source": [
    "What is the purpose of the try clause? What is the purpose of the except clause?\n",
    "\n",
    "Ans:The Try clause and except clause are used to handle the error. while executing the programe code from the try block will execute first if no exception occurs, except statement is skipped and the execution of the try statement is finished. And if exception gets occurs then it will hadle by the except block."
   ]
  },
  {
   "cell_type": "markdown",
   "id": "b28229f3",
   "metadata": {},
   "source": [
    "----------"
   ]
  },
  {
   "cell_type": "code",
   "execution_count": null,
   "id": "ebd4f779",
   "metadata": {},
   "outputs": [],
   "source": []
  },
  {
   "cell_type": "code",
   "execution_count": null,
   "id": "7b5e39c2",
   "metadata": {},
   "outputs": [],
   "source": []
  }
 ],
 "metadata": {
  "kernelspec": {
   "display_name": "Python 3 (ipykernel)",
   "language": "python",
   "name": "python3"
  },
  "language_info": {
   "codemirror_mode": {
    "name": "ipython",
    "version": 3
   },
   "file_extension": ".py",
   "mimetype": "text/x-python",
   "name": "python",
   "nbconvert_exporter": "python",
   "pygments_lexer": "ipython3",
   "version": "3.9.13"
  }
 },
 "nbformat": 4,
 "nbformat_minor": 5
}
